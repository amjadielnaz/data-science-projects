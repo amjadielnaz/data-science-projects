{
 "cells": [
  {
   "cell_type": "markdown",
   "id": "db533de3",
   "metadata": {},
   "source": [
    "# 🧭 Exploratory Data Analysis – Titanic Dataset\n",
    "This notebook performs a simple exploratory data analysis (EDA) on the Titanic dataset using Python. We will explore the data, check basic statistics, and visualize key patterns."
   ]
  },
  {
   "cell_type": "code",
   "execution_count": null,
   "id": "bf4a088e",
   "metadata": {},
   "outputs": [],
   "source": [
    "import pandas as pd\n",
    "import seaborn as sns\n",
    "import matplotlib.pyplot as plt\n",
    "\n",
    "# Load dataset\n",
    "df = sns.load_dataset('titanic')\n",
    "\n",
    "# Show first 5 rows\n",
    "df.head()"
   ]
  },
  {
   "cell_type": "markdown",
   "id": "c701f80b",
   "metadata": {},
   "source": [
    "## 🔍 Basic Info"
   ]
  },
  {
   "cell_type": "code",
   "execution_count": null,
   "id": "09807a2d",
   "metadata": {},
   "outputs": [],
   "source": [
    "df.info()\n",
    "\n",
    "df.describe()"
   ]
  },
  {
   "cell_type": "markdown",
   "id": "829248f7",
   "metadata": {},
   "source": [
    "## ⚖️ Missing Values"
   ]
  },
  {
   "cell_type": "code",
   "execution_count": null,
   "id": "7f43100a",
   "metadata": {},
   "outputs": [],
   "source": [
    "df.isnull().sum()"
   ]
  },
  {
   "cell_type": "markdown",
   "id": "0df2158d",
   "metadata": {},
   "source": [
    "## 👥 Survival by Gender"
   ]
  },
  {
   "cell_type": "code",
   "execution_count": null,
   "id": "7230008d",
   "metadata": {},
   "outputs": [],
   "source": [
    "sns.countplot(x='sex', hue='survived', data=df)\n",
    "plt.title('Survival Count by Gender')\n",
    "plt.xlabel('Gender')\n",
    "plt.ylabel('Count')\n",
    "plt.legend(['Not Survived', 'Survived'])\n",
    "plt.show()"
   ]
  },
  {
   "cell_type": "markdown",
   "id": "afaa7a81",
   "metadata": {},
   "source": [
    "## 🧒 Age Distribution"
   ]
  },
  {
   "cell_type": "code",
   "execution_count": null,
   "id": "66a3626e",
   "metadata": {},
   "outputs": [],
   "source": [
    "sns.histplot(df['age'].dropna(), bins=30, kde=True)\n",
    "plt.title('Age Distribution')\n",
    "plt.xlabel('Age')\n",
    "plt.ylabel('Count')\n",
    "plt.show()"
   ]
  },
  {
   "cell_type": "markdown",
   "id": "ef2e1eee",
   "metadata": {},
   "source": [
    "## 🎯 Conclusion\n",
    "- Most passengers were in their 20s–30s.\n",
    "- Females had a higher survival rate.\n",
    "- The dataset has missing values in some columns (e.g. age, embarked).\n",
    "\n",
    "This was a short and simple EDA example. Next steps could include feature engineering or model building."
   ]
  }
 ],
 "metadata": {},
 "nbformat": 4,
 "nbformat_minor": 5
}
